{
 "cells": [
  {
   "cell_type": "markdown",
   "id": "5f55fb4c",
   "metadata": {},
   "source": [
    "# CLASSIFICATION"
   ]
  },
  {
   "cell_type": "code",
   "execution_count": 7,
   "id": "e0fdc375",
   "metadata": {},
   "outputs": [],
   "source": [
    "# imports and setup\n",
    "from __future__ import absolute_import, division, print_function, unicode_literals\n",
    "\n",
    "import tensorflow as tf\n",
    "import pandas as pd"
   ]
  },
  {
   "cell_type": "code",
   "execution_count": 12,
   "id": "87f02e52",
   "metadata": {},
   "outputs": [],
   "source": [
    "# data set\n",
    "CSV_COLUMN_NAMES = ['SepalLength', 'SepalWidth', 'PetalLength','PetalWidth', 'Species']\n",
    "SPECIES = ['Setosa', 'Vesicolor', 'Virginica']"
   ]
  },
  {
   "cell_type": "code",
   "execution_count": 13,
   "id": "1cd712fb",
   "metadata": {},
   "outputs": [],
   "source": [
    "# we use tf module keras to get the datasets and read them into pd df\n",
    "train_path = tf.keras.utils.get_file(\"iris_training.csv\",\"https://storage.googleapis.com/download.tensorflow.org/data/iris_training.csv\")\n",
    "test_path = tf.keras.utils.get_file(\"iris_test.csv\",\"https://storage.googleapis.com/download.tensorflow.org/data/iris_test.csv\")\n",
    "\n",
    "train = pd.read_csv(train_path, names=CSV_COLUMN_NAMES, header=0)\n",
    "test = pd.read_csv(test_path, names=CSV_COLUMN_NAMES, header=0)"
   ]
  },
  {
   "cell_type": "code",
   "execution_count": 14,
   "id": "82212607",
   "metadata": {},
   "outputs": [
    {
     "data": {
      "text/html": [
       "<div>\n",
       "<style scoped>\n",
       "    .dataframe tbody tr th:only-of-type {\n",
       "        vertical-align: middle;\n",
       "    }\n",
       "\n",
       "    .dataframe tbody tr th {\n",
       "        vertical-align: top;\n",
       "    }\n",
       "\n",
       "    .dataframe thead th {\n",
       "        text-align: right;\n",
       "    }\n",
       "</style>\n",
       "<table border=\"1\" class=\"dataframe\">\n",
       "  <thead>\n",
       "    <tr style=\"text-align: right;\">\n",
       "      <th></th>\n",
       "      <th>SepalLength</th>\n",
       "      <th>SepalWidth</th>\n",
       "      <th>PetalLength</th>\n",
       "      <th>PetalWidth</th>\n",
       "      <th>Species</th>\n",
       "    </tr>\n",
       "  </thead>\n",
       "  <tbody>\n",
       "    <tr>\n",
       "      <th>0</th>\n",
       "      <td>6.4</td>\n",
       "      <td>2.8</td>\n",
       "      <td>5.6</td>\n",
       "      <td>2.2</td>\n",
       "      <td>2</td>\n",
       "    </tr>\n",
       "    <tr>\n",
       "      <th>1</th>\n",
       "      <td>5.0</td>\n",
       "      <td>2.3</td>\n",
       "      <td>3.3</td>\n",
       "      <td>1.0</td>\n",
       "      <td>1</td>\n",
       "    </tr>\n",
       "    <tr>\n",
       "      <th>2</th>\n",
       "      <td>4.9</td>\n",
       "      <td>2.5</td>\n",
       "      <td>4.5</td>\n",
       "      <td>1.7</td>\n",
       "      <td>2</td>\n",
       "    </tr>\n",
       "    <tr>\n",
       "      <th>3</th>\n",
       "      <td>4.9</td>\n",
       "      <td>3.1</td>\n",
       "      <td>1.5</td>\n",
       "      <td>0.1</td>\n",
       "      <td>0</td>\n",
       "    </tr>\n",
       "    <tr>\n",
       "      <th>4</th>\n",
       "      <td>5.7</td>\n",
       "      <td>3.8</td>\n",
       "      <td>1.7</td>\n",
       "      <td>0.3</td>\n",
       "      <td>0</td>\n",
       "    </tr>\n",
       "  </tbody>\n",
       "</table>\n",
       "</div>"
      ],
      "text/plain": [
       "   SepalLength  SepalWidth  PetalLength  PetalWidth  Species\n",
       "0          6.4         2.8          5.6         2.2        2\n",
       "1          5.0         2.3          3.3         1.0        1\n",
       "2          4.9         2.5          4.5         1.7        2\n",
       "3          4.9         3.1          1.5         0.1        0\n",
       "4          5.7         3.8          1.7         0.3        0"
      ]
     },
     "execution_count": 14,
     "metadata": {},
     "output_type": "execute_result"
    }
   ],
   "source": [
    "train.head()"
   ]
  },
  {
   "cell_type": "code",
   "execution_count": 15,
   "id": "89655019",
   "metadata": {},
   "outputs": [],
   "source": [
    "# pop species col and use that as label\n",
    "train_y = train.pop('Species')\n",
    "test_y = test.pop('Species')"
   ]
  },
  {
   "cell_type": "code",
   "execution_count": 16,
   "id": "7bcfac49",
   "metadata": {},
   "outputs": [
    {
     "data": {
      "text/plain": [
       "(120, 4)"
      ]
     },
     "execution_count": 16,
     "metadata": {},
     "output_type": "execute_result"
    }
   ],
   "source": [
    "train.shape"
   ]
  },
  {
   "cell_type": "code",
   "execution_count": 17,
   "id": "c7a5a1be",
   "metadata": {},
   "outputs": [
    {
     "data": {
      "text/plain": [
       "0    2\n",
       "1    1\n",
       "2    2\n",
       "3    0\n",
       "4    0\n",
       "Name: Species, dtype: int64"
      ]
     },
     "execution_count": 17,
     "metadata": {},
     "output_type": "execute_result"
    }
   ],
   "source": [
    "train_y.head()"
   ]
  },
  {
   "cell_type": "markdown",
   "id": "9f445bfe",
   "metadata": {},
   "source": [
    "## Input function"
   ]
  },
  {
   "cell_type": "code",
   "execution_count": 28,
   "id": "e528532d",
   "metadata": {},
   "outputs": [],
   "source": [
    "def input_fn(features, labels, training=True, batch_size=256):\n",
    "    dataset = tf.data.Dataset.from_tensor_slices((dict(features),labels)) # convert inputs to a dataset\n",
    "    \n",
    "    if training:\n",
    "        dataset = dataset.shuffle(1000).repeat() # shuffle and repeat if in training mode\n",
    "    return dataset.batch(batch_size)"
   ]
  },
  {
   "cell_type": "markdown",
   "id": "11f75dd4",
   "metadata": {},
   "source": [
    "## Feature Columns"
   ]
  },
  {
   "cell_type": "code",
   "execution_count": 29,
   "id": "1dd35f2c",
   "metadata": {},
   "outputs": [
    {
     "name": "stdout",
     "output_type": "stream",
     "text": [
      "[NumericColumn(key='SepalLength', shape=(1,), default_value=None, dtype=tf.float32, normalizer_fn=None), NumericColumn(key='SepalWidth', shape=(1,), default_value=None, dtype=tf.float32, normalizer_fn=None), NumericColumn(key='PetalLength', shape=(1,), default_value=None, dtype=tf.float32, normalizer_fn=None), NumericColumn(key='PetalWidth', shape=(1,), default_value=None, dtype=tf.float32, normalizer_fn=None)]\n"
     ]
    }
   ],
   "source": [
    "# feature col describe how to use the input\n",
    "\n",
    "my_feature_columns = []\n",
    "for key in train.keys(): # keys gives us all the count\n",
    "    my_feature_columns.append(tf.feature_column.numeric_column(key=key))\n",
    "print(my_feature_columns)"
   ]
  },
  {
   "cell_type": "markdown",
   "id": "0d391093",
   "metadata": {},
   "source": [
    "## Building the model"
   ]
  },
  {
   "cell_type": "code",
   "execution_count": 30,
   "id": "016c7c9e",
   "metadata": {},
   "outputs": [
    {
     "name": "stdout",
     "output_type": "stream",
     "text": [
      "INFO:tensorflow:Using default config.\n",
      "WARNING:tensorflow:Using temporary folder as model directory: C:\\Users\\BHANUT~1\\AppData\\Local\\Temp\\tmp1lts97n9\n",
      "INFO:tensorflow:Using config: {'_model_dir': 'C:\\\\Users\\\\BHANUT~1\\\\AppData\\\\Local\\\\Temp\\\\tmp1lts97n9', '_tf_random_seed': None, '_save_summary_steps': 100, '_save_checkpoints_steps': None, '_save_checkpoints_secs': 600, '_session_config': allow_soft_placement: true\n",
      "graph_options {\n",
      "  rewrite_options {\n",
      "    meta_optimizer_iterations: ONE\n",
      "  }\n",
      "}\n",
      ", '_keep_checkpoint_max': 5, '_keep_checkpoint_every_n_hours': 10000, '_log_step_count_steps': 100, '_train_distribute': None, '_device_fn': None, '_protocol': None, '_eval_distribute': None, '_experimental_distribute': None, '_experimental_max_worker_delay_secs': None, '_session_creation_timeout_secs': 7200, '_checkpoint_save_graph_def': True, '_service': None, '_cluster_spec': ClusterSpec({}), '_task_type': 'worker', '_task_id': 0, '_global_id_in_cluster': 0, '_master': '', '_evaluation_master': '', '_is_chief': True, '_num_ps_replicas': 0, '_num_worker_replicas': 1}\n"
     ]
    }
   ],
   "source": [
    "# there are diff models/estimators like DNNClassifier, LinearClassifier\n",
    "# here we use DNN model, because we dont fine linear coresspondance in our data\n",
    "\n",
    "classifier = tf.estimator.DNNClassifier(feature_columns=my_feature_columns,\n",
    "                                       # 2 hidden layers of 30, 10 nodes respectively\n",
    "                                       hidden_units=[30,10],\n",
    "                                       # model must choose 3 classes\n",
    "                                       n_classes=3)\n"
   ]
  },
  {
   "cell_type": "markdown",
   "id": "508730f1",
   "metadata": {},
   "source": [
    "## Training"
   ]
  },
  {
   "cell_type": "code",
   "execution_count": 31,
   "id": "e8f4a6de",
   "metadata": {},
   "outputs": [
    {
     "name": "stdout",
     "output_type": "stream",
     "text": [
      "INFO:tensorflow:Calling model_fn.\n",
      "WARNING:tensorflow:From C:\\Anaconda3\\lib\\site-packages\\keras\\optimizers\\optimizer_v2\\adagrad.py:86: calling Constant.__init__ (from tensorflow.python.ops.init_ops) with dtype is deprecated and will be removed in a future version.\n",
      "Instructions for updating:\n",
      "Call initializer instance with the dtype argument instead of passing it to the constructor\n",
      "INFO:tensorflow:Done calling model_fn.\n",
      "INFO:tensorflow:Create CheckpointSaverHook.\n",
      "INFO:tensorflow:Graph was finalized.\n",
      "INFO:tensorflow:Running local_init_op.\n",
      "INFO:tensorflow:Done running local_init_op.\n",
      "INFO:tensorflow:Calling checkpoint listeners before saving checkpoint 0...\n",
      "INFO:tensorflow:Saving checkpoints for 0 into C:\\Users\\BHANUT~1\\AppData\\Local\\Temp\\tmp1lts97n9\\model.ckpt.\n",
      "INFO:tensorflow:C:\\Users\\BHANUT~1\\AppData\\Local\\Temp\\tmp1lts97n9\\model.ckpt-0.data-00000-of-00001\n",
      "INFO:tensorflow:0\n",
      "INFO:tensorflow:C:\\Users\\BHANUT~1\\AppData\\Local\\Temp\\tmp1lts97n9\\model.ckpt-0.index\n",
      "INFO:tensorflow:0\n",
      "INFO:tensorflow:C:\\Users\\BHANUT~1\\AppData\\Local\\Temp\\tmp1lts97n9\\model.ckpt-0.meta\n",
      "INFO:tensorflow:100\n",
      "INFO:tensorflow:Calling checkpoint listeners after saving checkpoint 0...\n",
      "INFO:tensorflow:loss = 1.7993027, step = 0\n",
      "INFO:tensorflow:global_step/sec: 357.434\n",
      "INFO:tensorflow:loss = 0.81667733, step = 100 (0.283 sec)\n",
      "INFO:tensorflow:global_step/sec: 389.038\n",
      "INFO:tensorflow:loss = 0.6991383, step = 200 (0.255 sec)\n",
      "INFO:tensorflow:global_step/sec: 729.844\n",
      "INFO:tensorflow:loss = 0.64576644, step = 300 (0.136 sec)\n",
      "INFO:tensorflow:global_step/sec: 744.153\n",
      "INFO:tensorflow:loss = 0.61942697, step = 400 (0.134 sec)\n",
      "INFO:tensorflow:global_step/sec: 725.067\n",
      "INFO:tensorflow:loss = 0.57289857, step = 500 (0.139 sec)\n",
      "INFO:tensorflow:global_step/sec: 664.248\n",
      "INFO:tensorflow:loss = 0.5597247, step = 600 (0.151 sec)\n",
      "INFO:tensorflow:global_step/sec: 778.701\n",
      "INFO:tensorflow:loss = 0.5461457, step = 700 (0.129 sec)\n",
      "INFO:tensorflow:global_step/sec: 742.457\n",
      "INFO:tensorflow:loss = 0.5194056, step = 800 (0.133 sec)\n",
      "INFO:tensorflow:global_step/sec: 775.029\n",
      "INFO:tensorflow:loss = 0.46119022, step = 900 (0.129 sec)\n",
      "INFO:tensorflow:global_step/sec: 745.172\n",
      "INFO:tensorflow:loss = 0.43331987, step = 1000 (0.135 sec)\n",
      "INFO:tensorflow:global_step/sec: 756.582\n",
      "INFO:tensorflow:loss = 0.41576856, step = 1100 (0.133 sec)\n",
      "INFO:tensorflow:global_step/sec: 718.197\n",
      "INFO:tensorflow:loss = 0.41219193, step = 1200 (0.138 sec)\n",
      "INFO:tensorflow:global_step/sec: 768.137\n",
      "INFO:tensorflow:loss = 0.38627434, step = 1300 (0.130 sec)\n",
      "INFO:tensorflow:global_step/sec: 735.792\n",
      "INFO:tensorflow:loss = 0.38629612, step = 1400 (0.136 sec)\n",
      "INFO:tensorflow:global_step/sec: 765.648\n",
      "INFO:tensorflow:loss = 0.37079784, step = 1500 (0.131 sec)\n",
      "INFO:tensorflow:global_step/sec: 673.801\n",
      "INFO:tensorflow:loss = 0.37021282, step = 1600 (0.147 sec)\n",
      "INFO:tensorflow:global_step/sec: 766.796\n",
      "INFO:tensorflow:loss = 0.3496143, step = 1700 (0.130 sec)\n",
      "INFO:tensorflow:global_step/sec: 742.874\n",
      "INFO:tensorflow:loss = 0.35113055, step = 1800 (0.135 sec)\n",
      "INFO:tensorflow:global_step/sec: 409.605\n",
      "INFO:tensorflow:loss = 0.34562522, step = 1900 (0.246 sec)\n",
      "INFO:tensorflow:global_step/sec: 314.347\n",
      "INFO:tensorflow:loss = 0.34133303, step = 2000 (0.317 sec)\n",
      "INFO:tensorflow:global_step/sec: 386.261\n",
      "INFO:tensorflow:loss = 0.3296255, step = 2100 (0.260 sec)\n",
      "INFO:tensorflow:global_step/sec: 465.342\n",
      "INFO:tensorflow:loss = 0.32665426, step = 2200 (0.217 sec)\n",
      "INFO:tensorflow:global_step/sec: 483.378\n",
      "INFO:tensorflow:loss = 0.31681025, step = 2300 (0.206 sec)\n",
      "INFO:tensorflow:global_step/sec: 382.247\n",
      "INFO:tensorflow:loss = 0.31804472, step = 2400 (0.260 sec)\n",
      "INFO:tensorflow:global_step/sec: 378.668\n",
      "INFO:tensorflow:loss = 0.31153372, step = 2500 (0.264 sec)\n",
      "INFO:tensorflow:global_step/sec: 477.244\n",
      "INFO:tensorflow:loss = 0.2976874, step = 2600 (0.209 sec)\n",
      "INFO:tensorflow:global_step/sec: 385.506\n",
      "INFO:tensorflow:loss = 0.2987023, step = 2700 (0.261 sec)\n",
      "INFO:tensorflow:global_step/sec: 494.117\n",
      "INFO:tensorflow:loss = 0.3008567, step = 2800 (0.202 sec)\n",
      "INFO:tensorflow:global_step/sec: 497.543\n",
      "INFO:tensorflow:loss = 0.29496098, step = 2900 (0.202 sec)\n",
      "INFO:tensorflow:global_step/sec: 523.648\n",
      "INFO:tensorflow:loss = 0.28791857, step = 3000 (0.188 sec)\n",
      "INFO:tensorflow:global_step/sec: 729.244\n",
      "INFO:tensorflow:loss = 0.28087378, step = 3100 (0.137 sec)\n",
      "INFO:tensorflow:global_step/sec: 748.61\n",
      "INFO:tensorflow:loss = 0.2692439, step = 3200 (0.134 sec)\n",
      "INFO:tensorflow:global_step/sec: 567.529\n",
      "INFO:tensorflow:loss = 0.28203428, step = 3300 (0.178 sec)\n",
      "INFO:tensorflow:global_step/sec: 605.701\n",
      "INFO:tensorflow:loss = 0.26604104, step = 3400 (0.163 sec)\n",
      "INFO:tensorflow:global_step/sec: 590.496\n",
      "INFO:tensorflow:loss = 0.2714256, step = 3500 (0.175 sec)\n",
      "INFO:tensorflow:global_step/sec: 499.088\n",
      "INFO:tensorflow:loss = 0.27190846, step = 3600 (0.195 sec)\n",
      "INFO:tensorflow:global_step/sec: 768.262\n",
      "INFO:tensorflow:loss = 0.2578895, step = 3700 (0.130 sec)\n",
      "INFO:tensorflow:global_step/sec: 775.554\n",
      "INFO:tensorflow:loss = 0.2667482, step = 3800 (0.128 sec)\n",
      "INFO:tensorflow:global_step/sec: 735.39\n",
      "INFO:tensorflow:loss = 0.2565656, step = 3900 (0.137 sec)\n",
      "INFO:tensorflow:global_step/sec: 688.35\n",
      "INFO:tensorflow:loss = 0.26923528, step = 4000 (0.145 sec)\n",
      "INFO:tensorflow:global_step/sec: 782.76\n",
      "INFO:tensorflow:loss = 0.25837862, step = 4100 (0.128 sec)\n",
      "INFO:tensorflow:global_step/sec: 813.752\n",
      "INFO:tensorflow:loss = 0.25371218, step = 4200 (0.123 sec)\n",
      "INFO:tensorflow:global_step/sec: 782.759\n",
      "INFO:tensorflow:loss = 0.24266297, step = 4300 (0.127 sec)\n",
      "INFO:tensorflow:global_step/sec: 772.426\n",
      "INFO:tensorflow:loss = 0.25218183, step = 4400 (0.130 sec)\n",
      "INFO:tensorflow:global_step/sec: 736.051\n",
      "INFO:tensorflow:loss = 0.2399071, step = 4500 (0.135 sec)\n",
      "INFO:tensorflow:global_step/sec: 763.884\n",
      "INFO:tensorflow:loss = 0.2465783, step = 4600 (0.132 sec)\n",
      "INFO:tensorflow:global_step/sec: 749.186\n",
      "INFO:tensorflow:loss = 0.23751107, step = 4700 (0.132 sec)\n",
      "INFO:tensorflow:global_step/sec: 777.274\n",
      "INFO:tensorflow:loss = 0.23609553, step = 4800 (0.130 sec)\n",
      "INFO:tensorflow:global_step/sec: 519.921\n",
      "INFO:tensorflow:loss = 0.2431704, step = 4900 (0.192 sec)\n",
      "INFO:tensorflow:Calling checkpoint listeners before saving checkpoint 5000...\n",
      "INFO:tensorflow:Saving checkpoints for 5000 into C:\\Users\\BHANUT~1\\AppData\\Local\\Temp\\tmp1lts97n9\\model.ckpt.\n",
      "INFO:tensorflow:C:\\Users\\BHANUT~1\\AppData\\Local\\Temp\\tmp1lts97n9\\model.ckpt-5000.data-00000-of-00001\n",
      "INFO:tensorflow:0\n",
      "INFO:tensorflow:C:\\Users\\BHANUT~1\\AppData\\Local\\Temp\\tmp1lts97n9\\model.ckpt-5000.index\n",
      "INFO:tensorflow:0\n",
      "INFO:tensorflow:C:\\Users\\BHANUT~1\\AppData\\Local\\Temp\\tmp1lts97n9\\model.ckpt-5000.meta\n",
      "INFO:tensorflow:100\n",
      "INFO:tensorflow:Calling checkpoint listeners after saving checkpoint 5000...\n",
      "INFO:tensorflow:Loss for final step: 0.22198108.\n"
     ]
    },
    {
     "data": {
      "text/plain": [
       "<tensorflow_estimator.python.estimator.canned.dnn.DNNClassifierV2 at 0x20b94caf940>"
      ]
     },
     "execution_count": 31,
     "metadata": {},
     "output_type": "execute_result"
    }
   ],
   "source": [
    "classifier.train(input_fn=lambda:input_fn(train, train_y, training=True),\n",
    "                steps=5000)\n",
    "# lambda gets rid of make_input_fn function"
   ]
  },
  {
   "cell_type": "code",
   "execution_count": 39,
   "id": "65268509",
   "metadata": {},
   "outputs": [
    {
     "name": "stdout",
     "output_type": "stream",
     "text": [
      "INFO:tensorflow:Calling model_fn.\n",
      "INFO:tensorflow:Done calling model_fn.\n",
      "INFO:tensorflow:Starting evaluation at 2023-03-30T21:01:49\n",
      "INFO:tensorflow:Graph was finalized.\n",
      "INFO:tensorflow:Restoring parameters from C:\\Users\\BHANUT~1\\AppData\\Local\\Temp\\tmp1lts97n9\\model.ckpt-5000\n",
      "INFO:tensorflow:Running local_init_op.\n",
      "INFO:tensorflow:Done running local_init_op.\n",
      "INFO:tensorflow:Inference Time : 0.18887s\n",
      "INFO:tensorflow:Finished evaluation at 2023-03-30-21:01:49\n",
      "INFO:tensorflow:Saving dict for global step 5000: accuracy = 0.96666664, average_loss = 0.26681936, global_step = 5000, loss = 0.26681936\n",
      "INFO:tensorflow:Saving 'checkpoint_path' summary for global step 5000: C:\\Users\\BHANUT~1\\AppData\\Local\\Temp\\tmp1lts97n9\\model.ckpt-5000\n",
      "Test set Accuracy:0.967\n",
      "\n"
     ]
    }
   ],
   "source": [
    "eval_result = classifier.evaluate(input_fn=lambda:input_fn(test, test_y, training=False))\n",
    "print('Test set Accuracy:{accuracy:0.3f}\\n'.format(**eval_result))"
   ]
  },
  {
   "cell_type": "markdown",
   "id": "3c402ac0",
   "metadata": {},
   "source": [
    "## Predictions"
   ]
  },
  {
   "cell_type": "code",
   "execution_count": 43,
   "id": "8cccfe87",
   "metadata": {},
   "outputs": [
    {
     "name": "stdout",
     "output_type": "stream",
     "text": [
      "Enter the numeric values.\n",
      "SepalLength: 8.6\n",
      "SepalWidth: 5.3\n",
      "PetalLength: 4.9\n",
      "PetalWidth: 2.3\n",
      "INFO:tensorflow:Calling model_fn.\n",
      "INFO:tensorflow:Done calling model_fn.\n",
      "INFO:tensorflow:Graph was finalized.\n",
      "INFO:tensorflow:Restoring parameters from C:\\Users\\BHANUT~1\\AppData\\Local\\Temp\\tmp1lts97n9\\model.ckpt-5000\n",
      "INFO:tensorflow:Running local_init_op.\n",
      "INFO:tensorflow:Done running local_init_op.\n",
      "Prediction is \"Vesicolor\" (69.8%)\n"
     ]
    }
   ],
   "source": [
    "# allows to type the features of a flower and see the predected class for it\n",
    "\n",
    "def input_fn(features, batch_size=256):\n",
    "    # convert the inputs with out label\n",
    "    return tf.data.Dataset.from_tensor_slices(dict(features)).batch(batch_size)\n",
    "\n",
    "features = ['SepalLength', 'SepalWidth', 'PetalLength','PetalWidth']\n",
    "predict={}\n",
    "\n",
    "print('Enter the numeric values.')\n",
    "for feature in features:\n",
    "    valid = True\n",
    "    while valid:\n",
    "        val = input(feature+\": \")\n",
    "        if not val.isdigit():valid=False\n",
    "            \n",
    "    predict[feature] = [float(val)]\n",
    "    \n",
    "predictions = classifier.predict(input_fn=lambda:input_fn(predict))\n",
    "for pred_dict in predictions:\n",
    "    class_id = pred_dict['class_ids'][0]\n",
    "    probability = pred_dict['probabilities'][class_id]\n",
    "    \n",
    "    print('Prediction is \"{}\" ({:.1f}%)'.format(SPECIES[class_id],100*probability))"
   ]
  },
  {
   "cell_type": "code",
   "execution_count": null,
   "id": "26b654f3",
   "metadata": {},
   "outputs": [],
   "source": []
  }
 ],
 "metadata": {
  "kernelspec": {
   "display_name": "Python 3 (ipykernel)",
   "language": "python",
   "name": "python3"
  },
  "language_info": {
   "codemirror_mode": {
    "name": "ipython",
    "version": 3
   },
   "file_extension": ".py",
   "mimetype": "text/x-python",
   "name": "python",
   "nbconvert_exporter": "python",
   "pygments_lexer": "ipython3",
   "version": "3.9.12"
  }
 },
 "nbformat": 4,
 "nbformat_minor": 5
}
